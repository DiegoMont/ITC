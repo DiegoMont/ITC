{
  "nbformat": 4,
  "nbformat_minor": 0,
  "metadata": {
    "colab": {
      "name": "Copia de lambdaBeta.ipynb",
      "provenance": []
    },
    "kernelspec": {
      "name": "python3",
      "display_name": "Python 3"
    },
    "language_info": {
      "name": "python"
    }
  },
  "cells": [
    {
      "cell_type": "markdown",
      "metadata": {
        "id": "ms4uNCQCru8e"
      },
      "source": [
        "# Laboratorio de Lambdas y Aplicación"
      ]
    },
    {
      "cell_type": "markdown",
      "metadata": {
        "id": "XMEUusyTs9y1"
      },
      "source": [
        "## En los siguientes ejercicios evalúa cada una de una expresión lambda y usa el reductor Beta.\n",
        "*  (λx.x y z x) w\n",
        "   ->β x[x := w]\n",
        "   =w y z w\n",
        "\n",
        "*  (λx.x x x) (foo)\n",
        "   ->β x[x := foo]\n",
        "   =foo foo foo\n",
        "\n",
        "*  (λy.xyz)\n",
        "\n",
        "*  (λx.x) (λz.z w) y\n",
        "   (λx.x) (λz.z w) y\n",
        "   ->β z[ z := y ]\n",
        "   =(λx.x)(y w)\n",
        "   ->β x[x := y w]\n",
        "   = y w\n",
        "\n",
        "*  (λx.x u) (λz.w z w z) yv\n",
        "   ->β z[ z := yv ]\n",
        "   =((λx.x u) (w yv w yv)\n",
        "   ->β x[ x := w yv w yv ]\n",
        "   =(w yv w yv) u\n",
        "\n",
        "*  (λy.(λw.ywy)) x u\n",
        "   ->β y[ y := x ]\n",
        "   = (λw.ywy) u\n",
        "   ->β y[ w := u ]\n",
        "   = ywy\n",
        "   \n",
        "*  ((λx.(λy.xyxy)) y) z\n",
        "   ->β x[x := y]\n",
        "   ((λy.yyyy) z)\n",
        "   ->β y[y := z]\n",
        "   zzzz\n",
        "\n",
        "*  (λx.x x)(λx.(x x))\n",
        "   ->β x[x := λx.(x x)]\n",
        "   =((λx.x x) (λx.(x x))) inf\n",
        "\n",
        "*  (λx.((x y) (y x)) (λw.(w w) z))\n",
        "   ->β w[w := z]\n",
        "   (λx.((x y) (y x)) (z z)\n",
        "   ->β x[x := (z z)]\n",
        "   ((z z) y) (y (z z))\n",
        "\n",
        "\n"
      ]
    },
    {
      "cell_type": "code",
      "metadata": {
        "id": "MR5RFAXqrufQ"
      },
      "source": [
        "print(\"buen fin!!!\")"
      ],
      "execution_count": null,
      "outputs": []
    }
  ]
}