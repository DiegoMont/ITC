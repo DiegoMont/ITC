{
 "cells": [
  {
   "cell_type": "code",
   "execution_count": 5,
   "metadata": {},
   "outputs": [
    {
     "data": {
      "text/plain": [
       "#'user/jedi"
      ]
     },
     "execution_count": 5,
     "metadata": {},
     "output_type": "execute_result"
    }
   ],
   "source": [
    "(defn jedi \n",
    "    ([n] (if (= n 1) true (jedi n n)))\n",
    "    ([original n] \n",
    "     (cond\n",
    "         (= (sumaDigitos n 0) original) false\n",
    "         (= (sumaDigitos n 0) 1) true\n",
    "         :else (jedi original (sumaDigitos n 0)))))"
   ]
  },
  {
   "cell_type": "code",
   "execution_count": 6,
   "metadata": {},
   "outputs": [
    {
     "data": {
      "text/plain": [
       "#'user/sumaDigitos"
      ]
     },
     "execution_count": 6,
     "metadata": {},
     "output_type": "execute_result"
    }
   ],
   "source": [
    "(defn sumaDigitos [x acc]\n",
    "    (if (= x 0)\n",
    "        acc\n",
    "        (sumaDigitos (quot x 10) (+ acc (* (mod x 10) (mod x 10))))))"
   ]
  },
  {
   "cell_type": "code",
   "execution_count": 7,
   "metadata": {},
   "outputs": [
    {
     "data": {
      "text/plain": [
       "true"
      ]
     },
     "execution_count": 7,
     "metadata": {},
     "output_type": "execute_result"
    }
   ],
   "source": [
    "(= (jedi 7) true)"
   ]
  },
  {
   "cell_type": "code",
   "execution_count": 8,
   "metadata": {},
   "outputs": [
    {
     "data": {
      "text/plain": [
       "true"
      ]
     },
     "execution_count": 8,
     "metadata": {},
     "output_type": "execute_result"
    }
   ],
   "source": [
    "(= (jedi 86) true)"
   ]
  },
  {
   "cell_type": "code",
   "execution_count": 9,
   "metadata": {},
   "outputs": [
    {
     "data": {
      "text/plain": [
       "true"
      ]
     },
     "execution_count": 9,
     "metadata": {},
     "output_type": "execute_result"
    }
   ],
   "source": [
    "(= (jedi 4) false)"
   ]
  },
  {
   "cell_type": "code",
   "execution_count": 10,
   "metadata": {},
   "outputs": [
    {
     "name": "stderr",
     "output_type": "stream",
     "text": [
      "Execution error (StackOverflowError) at user/sumaDigitos (REPL:4).\n",
      "null\n"
     ]
    },
    {
     "ename": "class java.lang.StackOverflowError",
     "evalue": "",
     "output_type": "error",
     "traceback": [
      "Numbers.java:   552 clojure.lang.Numbers$LongOps/remainder",
      "Numbers.java:   203 clojure.lang.Numbers/remainder",
      "    core.clj:  3571 clojure.core$mod/invokeStatic",
      "    core.clj:  3566 clojure.core$mod/invoke"
     ]
    }
   ],
   "source": [
    "(= (jedi 15) false)"
   ]
  },
  {
   "cell_type": "code",
   "execution_count": null,
   "metadata": {},
   "outputs": [],
   "source": []
  }
 ],
 "metadata": {
  "kernelspec": {
   "display_name": "Clojure (clojupyter=0.3.2=1)",
   "language": "clojure",
   "name": "conda-clojupyter"
  },
  "language_info": {
   "file_extension": ".clj",
   "mimetype": "text/x-clojure",
   "name": "clojure",
   "version": "1.10.1"
  }
 },
 "nbformat": 4,
 "nbformat_minor": 4
}
