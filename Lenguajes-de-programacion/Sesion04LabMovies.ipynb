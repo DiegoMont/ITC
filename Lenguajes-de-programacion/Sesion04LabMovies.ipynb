{
 "cells": [
  {
   "cell_type": "markdown",
   "metadata": {},
   "source": [
    "# Movies Lab:\n",
    "\n",
    "---\n",
    "\n",
    "_Student ID and Name_:\n",
    "\n",
    "_Student ID and Name_:\n",
    "\n",
    "_Student ID and Name_:\n",
    "\n",
    "---\n",
    "\n",
    "**Instructions:** Write the Clojure code to solve the following problems. Make sure each function passes all the unit tests.\n"
   ]
  },
  {
   "cell_type": "code",
   "execution_count": 4,
   "metadata": {},
   "outputs": [
    {
     "data": {
      "text/plain": [
       "nil"
      ]
     },
     "execution_count": 4,
     "metadata": {},
     "output_type": "execute_result"
    }
   ],
   "source": [
    ";;; External functions required for this notebook.\n",
    "(require '[clojure.test :refer [is]])\n",
    "(require '[cemerick.pomegranate :refer [add-dependencies]])\n",
    "(add-dependencies :coordinates '[[org.clojure/math.numeric-tower \"0.0.4\"]])\n",
    "(require '[clojure.math.numeric-tower :refer [sqrt]])"
   ]
  },
  {
   "cell_type": "markdown",
   "metadata": {},
   "source": [
    "## Problem: Aliens\n",
    "\n",
    "Write a function called `aliens` that takes the distance $distance$ that aliens are near to Ripley's crew.\n",
    "\n",
    "|Aliens range    |Message|\n",
    "|:-----------:|:---------:|\n",
    "|distance < 20     |Ripley Dies!|\n",
    "|20 ≤ distance < 25|Almost Done    |\n",
    "|25 ≤ distance < 50|Run Ripley   |\n",
    "|50 ≤ distance < 70|I see non Aliens     |\n",
    "|70 ≤ distance     |You are reading it wrong     |\n"
   ]
  },
  {
   "cell_type": "code",
   "execution_count": 10,
   "metadata": {},
   "outputs": [
    {
     "data": {
      "text/plain": [
       "#'user/aliens"
      ]
     },
     "execution_count": 10,
     "metadata": {},
     "output_type": "execute_result"
    }
   ],
   "source": [
    "(defn aliens\n",
    "  [distance]\n",
    "  ;;; your code goes here\n",
    "  \"Ripley Dies!\")"
   ]
  },
  {
   "cell_type": "code",
   "execution_count": 11,
   "metadata": {},
   "outputs": [
    {
     "data": {
      "text/plain": [
       "true"
      ]
     },
     "execution_count": 11,
     "metadata": {},
     "output_type": "execute_result"
    }
   ],
   "source": [
    ";;; Unit tests:\n",
    "(is (= \"Ripley Dies!\" (aliens 10) ))"
   ]
  },
  {
   "cell_type": "code",
   "execution_count": 3,
   "metadata": {},
   "outputs": [
    {
     "data": {
      "text/plain": [
       "true"
      ]
     },
     "execution_count": 3,
     "metadata": {},
     "output_type": "execute_result"
    }
   ],
   "source": [
    ";;; Unit tests:\n",
    ";;; add all the remain tests"
   ]
  },
  {
   "cell_type": "markdown",
   "metadata": {},
   "source": [
    "## Problem Queen:\n",
    "\n",
    "Write a function called `freddie` that takes an integer value $galileos$. It prints \"NEGATIVE NUMBER DARLING\" if  $galileos$ is negative otherwise it prints \"Galileo Figaro\" times $galileos$"
   ]
  },
  {
   "cell_type": "code",
   "execution_count": 12,
   "metadata": {},
   "outputs": [
    {
     "data": {
      "text/plain": [
       "#'user/freddie"
      ]
     },
     "execution_count": 12,
     "metadata": {},
     "output_type": "execute_result"
    }
   ],
   "source": [
    "(defn freddie\n",
    "  [galileos]\n",
    "  ;;; your code goes here\n",
    "  \"\")"
   ]
  },
  {
   "cell_type": "code",
   "execution_count": 13,
   "metadata": {},
   "outputs": [],
   "source": [
    ";;; Unit tests:\n",
    "; add all the remain tests"
   ]
  },
  {
   "cell_type": "markdown",
   "metadata": {},
   "source": [
    "## Problem: BMI\n",
    "\n",
    "The $\\textit{BMI}$ (body mass index) is used to determine if a person's weight and height proportion is adequate. The $\\textit{BMI}$ may be calculated using the following formula:\n",
    "\n",
    "$$\n",
    "\\textit{BMI} = \\frac{\\textit{weight}}{\\textit{height}^2}\n",
    "$$\n",
    "\n",
    "Where $\\textit{weight}$ should be given in kilograms and $\\textit{height}$ in meters. The following table shows how different BMI ranges are classified: \n",
    "\n",
    "|BMI range    |Description|\n",
    "|:-----------:|:---------:|\n",
    "|BMI < 20     |underweight|\n",
    "|20 ≤ BMI < 25|normal     |\n",
    "|25 ≤ BMI < 30|obese1     |\n",
    "|30 ≤ BMI < 40|obese2     |\n",
    "|40 ≤ BMI     |obese3     |\n",
    "\n",
    "Write a function called `bmi` that takes two arguments: $\\textit{weight}$ and $\\textit{height}$. It should return a symbol that represents the corresponding BMI description computed from its input."
   ]
  },
  {
   "cell_type": "code",
   "execution_count": null,
   "metadata": {},
   "outputs": [],
   "source": []
  },
  {
   "cell_type": "code",
   "execution_count": null,
   "metadata": {},
   "outputs": [],
   "source": [
    "(defn bmi\n",
    "  [weight height]\n",
    "  ;;; you code goes here\n",
    "  nil)"
   ]
  },
  {
   "cell_type": "code",
   "execution_count": null,
   "metadata": {},
   "outputs": [],
   "source": [
    ";;; Unit tests\n",
    "(is (= 'underweight (bmi 45 1.7)))\n",
    "(is (= 'normal (bmi 55 1.5)))\n",
    "(is (= 'obese1 (bmi 76 1.7)))\n",
    "(is (= 'obese2 (bmi 81 1.6)))\n",
    "(is (= 'obese3 (bmi 120 1.6)))"
   ]
  },
  {
   "cell_type": "markdown",
   "metadata": {},
   "source": [
    "## Problem: Factorial\n",
    "\n",
    "Write the function `factorial`  to calculate the factorial of a $\\textit{number}$."
   ]
  },
  {
   "cell_type": "code",
   "execution_count": 9,
   "metadata": {},
   "outputs": [
    {
     "data": {
      "text/plain": [
       "#'user/factorial"
      ]
     },
     "execution_count": 9,
     "metadata": {},
     "output_type": "execute_result"
    }
   ],
   "source": [
    "(defn factorial\n",
    "  [number]\n",
    "  (if (< number 2)\n",
    "    1\n",
    "    (loop [numero number resultado 1]\n",
    "      (if (= numero 1)\n",
    "        resultado\n",
    "        (recur (- numero 1) (* resultado numero))\n",
    "      )\n",
    "    ) \n",
    "  )\n",
    ")"
   ]
  },
  {
   "cell_type": "code",
   "execution_count": 10,
   "metadata": {},
   "outputs": [
    {
     "data": {
      "text/plain": [
       "true"
      ]
     },
     "execution_count": 10,
     "metadata": {},
     "output_type": "execute_result"
    }
   ],
   "source": [
    ";;; Unit tests:\n",
    ";; ask for the value for number to the user\n",
    "(is (= 120 (factorial 5) ))"
   ]
  },
  {
   "cell_type": "markdown",
   "metadata": {},
   "source": [
    "## Problem: Power\n",
    "\n",
    "Write the function `power`  to calculate the power of a $\\textit{base}$ elevated to $\\textit{exponent}$ .\n",
    "\n",
    "Consider the following:\n",
    "$a^{2}$ = a Any number raised to the power of one equals the number itself.\n",
    "For any number a, except 0, $a^{0}$ = 1 Any number raised to the power of zero, except zero, equals one.\n"
   ]
  },
  {
   "cell_type": "code",
   "execution_count": 11,
   "metadata": {},
   "outputs": [
    {
     "data": {
      "text/plain": [
       "#'user/power"
      ]
     },
     "execution_count": 11,
     "metadata": {},
     "output_type": "execute_result"
    }
   ],
   "source": [
    "(defn power\n",
    "  [base p]\n",
    "  (if (= p 0)\n",
    "    1\n",
    "    (loop [resultado 1 potencia p]\n",
    "      (if (= potencia 1)\n",
    "      (* resultado base)\n",
    "      (recur (* resultado base) (- potencia 1))\n",
    "      )   \n",
    "    )\n",
    "  )\n",
    ")"
   ]
  },
  {
   "cell_type": "code",
   "execution_count": null,
   "metadata": {},
   "outputs": [],
   "source": [
    ";;; Unit tests:\n",
    ";; ask for the value of base and exponent to the user"
   ]
  }
 ],
 "metadata": {
  "kernelspec": {
   "display_name": "Clojure (clojupyter=0.3.2=1)",
   "language": "clojure",
   "name": "conda-clojupyter"
  },
  "language_info": {
   "file_extension": ".clj",
   "mimetype": "text/x-clojure",
   "name": "clojure",
   "version": "1.10.1"
  }
 },
 "nbformat": 4,
 "nbformat_minor": 4
}
