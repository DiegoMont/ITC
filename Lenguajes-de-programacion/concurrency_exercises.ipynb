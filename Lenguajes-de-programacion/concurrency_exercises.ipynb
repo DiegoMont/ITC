{
 "cells": [
  {
   "cell_type": "markdown",
   "metadata": {
    "id": "jW0_uE_plsGe"
   },
   "source": [
    "# Problemas ++\n",
    "\n",
    "## Ejercicios en equipo extendido\n",
    "\n",
    "---\n",
    "\n",
    "_nombre y matrícula_:\n",
    "\n",
    "_nombre y matrícula_:\n",
    "\n",
    "_nombre y matrícula_:\n",
    "\n",
    "---\n",
    "\n",
    "### Objetivo\n",
    "\n",
    "* Escribe funciones de complejidad media utilizando el lenguaje de programación Clojure.\n",
    "\n",
    "---\n",
    "\n",
    "### Instructions\n",
    "\n",
    "- Con todos los miembros del equipo de su sala de reuniones, escriba el código Clojure necesario para resolver los siguientes problemas. Asegúrese de que cada función pase todas las pruebas unitarias.\n",
    "\n",
    "\n",
    "- Fecha de entrega:"
   ]
  },
  {
   "cell_type": "code",
   "execution_count": null,
   "metadata": {
    "id": "0p72bXUHlyjX"
   },
   "outputs": [],
   "source": [
    " "
   ]
  },
  {
   "cell_type": "markdown",
   "metadata": {
    "id": "qUHblWcRlsGj"
   },
   "source": [
    "## UNO\n",
    "Tu proyecto actual es un prototipo para una aplicación de negociación de acciones. Necesita escribir una función que simule a un cliente comprando una cantidad determinada de acciones a un precio determinado. Para que la compra tenga éxito,\n",
    "Deben suceder cuatro cosas: \n",
    "1. La cuenta del cliente se carga por el monto de la transacción. \n",
    "2. La cuenta del corredor se acredita por la misma cantidad. \n",
    "3. La cuenta de acciones del corredor (para esa acción en particular) se carga, es decir, ahora hay n acciones menos en esa cuenta. \n",
    "4. La cuenta de existencias del cliente (para esa acción en particular) se acredita: ahora hay n acciones más. \n",
    "\n",
    "Sin embargo, si el precio de las acciones cambia mientras esto ocurre, toda la compra debe invalidarse y reintentarse. Además, dado que se trata de una simulación, usaremos Thread / sleep para ralentizar las funciones:"
   ]
  },
  {
   "cell_type": "code",
   "execution_count": null,
   "metadata": {
    "id": "J_7xPPmelsGk",
    "outputId": "692f9f73-61f5-4200-c426-8e9210ae10c1"
   },
   "outputs": [
    {
     "data": {
      "text/plain": [
       "#'user/acciones-cliente"
      ]
     },
     "execution_count": 16,
     "metadata": {
      "tags": []
     },
     "output_type": "execute_result"
    }
   ],
   "source": [
    "(def cuenta-cliente(ref 2100)) \n",
    "(def cuenta-corredor (ref 10000)) \n",
    "(def precio-acción-acme-corp(ref 22)) \n",
    "(def acciones-corredor(ref {:acme-corp 50})) \n",
    "(def acciones-cliente (ref {:acme-corp 0}))"
   ]
  },
  {
   "cell_type": "markdown",
   "metadata": {
    "id": "LuuOJszalsGl"
   },
   "source": [
    "El cliente comienza con cero acciones de Acme Corp y un saldo de divisas de 2100 en su cuenta. El corredor tiene 50 acciones y un saldo de 10000."
   ]
  },
  {
   "cell_type": "markdown",
   "metadata": {
    "id": "RG61TB2wlsGm"
   },
   "source": [
    "---\n",
    "\n",
    "##  Escriba una función que describa una transacción completa: "
   ]
  },
  {
   "cell_type": "code",
   "execution_count": null,
   "metadata": {
    "id": "5jCR3TPwlsGm"
   },
   "outputs": [],
   "source": []
  },
  {
   "cell_type": "markdown",
   "metadata": {
    "id": "WS_pcShZlsGn"
   },
   "source": [
    "## DOS\n",
    "Utilizando átomos crea una función que simula un timer con segundos y minutos. Pide ambos valores de inicio al usuario."
   ]
  },
  {
   "cell_type": "code",
   "execution_count": 7,
   "metadata": {
    "id": "fRozH73ylsGn"
   },
   "outputs": [
    {
     "data": {
      "text/plain": [
       "#'user/timer"
      ]
     },
     "execution_count": 7,
     "metadata": {},
     "output_type": "execute_result"
    }
   ],
   "source": [
    "(defn timer [mins s]\n",
    "  (def segundos (atom (+ s (* mins 60))))\n",
    "  (while (> @segundos 0)\n",
    "    (swap! segundos dec))\n",
    "  (println \"El contador ha terminado!\"))"
   ]
  },
  {
   "cell_type": "code",
   "execution_count": 8,
   "metadata": {
    "id": "ox4jyj-elsGo"
   },
   "outputs": [
    {
     "data": {
      "text/plain": [
       "#function[user/timer/contador--4106]"
      ]
     },
     "execution_count": 8,
     "metadata": {},
     "output_type": "execute_result"
    }
   ],
   "source": [
    "(timer 5 30)"
   ]
  },
  {
   "cell_type": "code",
   "execution_count": null,
   "metadata": {},
   "outputs": [],
   "source": []
  }
 ],
 "metadata": {
  "colab": {
   "name": "concurrency_exercises.ipynb",
   "provenance": []
  },
  "kernelspec": {
   "display_name": "Clojure (clojupyter=0.3.2=1)",
   "language": "clojure",
   "name": "conda-clojupyter"
  },
  "language_info": {
   "file_extension": ".clj",
   "mimetype": "text/x-clojure",
   "name": "clojure",
   "version": "1.10.1"
  }
 },
 "nbformat": 4,
 "nbformat_minor": 1
}
