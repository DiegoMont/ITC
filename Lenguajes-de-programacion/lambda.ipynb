{
 "cells": [
  {
   "cell_type": "markdown",
   "metadata": {
    "id": "ms4uNCQCru8e"
   },
   "source": [
    "# Laboratorio de Lambdas y Aplicación"
   ]
  },
  {
   "cell_type": "markdown",
   "metadata": {
    "id": "68YlN5XYr1-y"
   },
   "source": [
    "## En los siguientes ejercicios asigna correctamente los paréntesis (asociatividad) y marca las variables libres y ligadas (después de asignar paréntesis):\n",
    "\n",
    "1. λx.x z λy.x y\n",
    "*  (λx.((x[ligada] z[libre]) (λy.x[libre] y[ligada]))) \n",
    "2. (λx.x z) λy.w λw.w y z x\n",
    "*  (λx.x[ligada] z[libre]) (λy.w[libre] (λw.(w[ligada] y[libre] z[libre] x[libre])))\n",
    "3.  λx.x y λx.y x\n",
    "*   (λx.(x[ligada] y[libre]) (λx.(y[libre] x[ligada])))"
   ]
  },
  {
   "cell_type": "markdown",
   "metadata": {
    "id": "XMEUusyTs9y1"
   },
   "source": [
    "## En los siguientes ejercicios evalúa cada una de una expresión lambda y comprueba con los métodos de orden aplicativo o normal si se llega al mismo resultado (sí y sólo sí faltan paréntesis aplícalos de manera correcta).\n",
    "*  (λx.x y z x) w\n",
    "*  OA (λx.(x y z x)) w = w y z w\n",
    "*  ON (λx.(x y z x)) w = w y z w\n",
    "* \n",
    "*  (λx.x x x) (foo)\n",
    "* OA (λx.(x x x) (foo)) = foo foo foo\n",
    "* ON (λx.(x x x) (foo)) = foo foo foo\n",
    "* \n",
    "*  (λy.xyz)\n",
    "* \n",
    "*  (λx.x) (λz.z w) y\n",
    "* OA (λx.x) (λz.z w) y = (λx.x) (y w) = y w\n",
    "* ON (λx.x) (λz.z w) y = (λz.z w) y = y w\n",
    "* \n",
    "*  (λx.x u) (λz.w z w z) yv\n",
    "*  OA (λx.x u) (λz.w z w z) yv = (λx.x u) w yv w yv = (w yv w yv) u = w yv w yv u\n",
    "*  ON (λx.x u) (λz.w z w z) yv = (((λz.w z w z) yv) u) = ((w yv w yv) u) = w yv w yv u\n",
    "* \n",
    "*  (λy.(λw.ywy)) x u\n",
    "*  OA (λy.λw.ywy) x u = ywy\n",
    "*  ON (λy.λw.ywy) x u = (λw.ywy) x) = ywy\n",
    "* \n",
    "*  (λx.(λy.xyxy)) y z\n",
    "*  OA (λx.λy.xyxy) y z = xyxy\n",
    "*  ON (λx.λy.xyxy) y z = λy.xyxy y = xyxy\n",
    "* \n",
    "*  (λx.x x)(λx.x x)\n",
    "*  OA (λx.x x)(λx.x x) = ((λx.x x) x) = x x\n",
    "*  ON (λx.x x)(λx.x x) = (λx.x x) (λx.x x) = x x\n",
    "* \n",
    "*  if (less 3 4) (plus 5 5) (divide 1 0) (usa evaluación por orden normal y orden aplicativo)\n",
    "*  OA if (less 3 4) (plus 5 5) (divide 1 0) = if true 10 NaN = 10\n",
    "*  ON if (less 3 4) (plus 5 5) (divide 1 0) = (plus 5 5) = 10\n",
    "* \n",
    "*  (λx.((x y) (y x)) (λw.(w w) z)) \n",
    "*  OA (λx.((x y) (y x)) (λw.(w w) z)) = (λx.((x y) (y x)) (z z)) = ((z z) y) (y (z z))\n",
    "*  ON (λx.((x y) (y x)) (λw.(w w) z)) = (((λw.(w w) z) y) (y (λw.(w w) z))) = ((z z) y) (y (z z))\n"
   ]
  },
  {
   "cell_type": "code",
   "execution_count": null,
   "metadata": {
    "id": "MR5RFAXqrufQ"
   },
   "outputs": [],
   "source": []
  }
 ],
 "metadata": {
  "colab": {
   "name": "lambda.ipynb",
   "provenance": []
  },
  "kernelspec": {
   "display_name": "Python 3",
   "language": "python",
   "name": "python3"
  },
  "language_info": {
   "codemirror_mode": {
    "name": "ipython",
    "version": 3
   },
   "file_extension": ".py",
   "mimetype": "text/x-python",
   "name": "python",
   "nbconvert_exporter": "python",
   "pygments_lexer": "ipython3",
   "version": "3.8.5"
  }
 },
 "nbformat": 4,
 "nbformat_minor": 1
}
